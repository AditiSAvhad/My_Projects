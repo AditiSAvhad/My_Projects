{
 "cells": [
  {
   "cell_type": "markdown",
   "id": "e4134b27",
   "metadata": {},
   "source": [
    "*We got the dataset from bollow link:\n",
    "    \n",
    "dataset link = https://www.kaggle.com/datasets/rahimanshu/cardiomegaly-disease-prediction-using-cnn*"
   ]
  },
  {
   "cell_type": "code",
   "execution_count": 2,
   "id": "0dac189c",
   "metadata": {
    "scrolled": true
   },
   "outputs": [
    {
     "name": "stdout",
     "output_type": "stream",
     "text": [
      "WARNING:tensorflow:From C:\\Users\\Aditi\\anaconda3\\lib\\site-packages\\keras\\src\\losses.py:2976: The name tf.losses.sparse_softmax_cross_entropy is deprecated. Please use tf.compat.v1.losses.sparse_softmax_cross_entropy instead.\n",
      "\n"
     ]
    }
   ],
   "source": [
    "import numpy as np\n",
    "import tensorflow as tf\n",
    "from tensorflow.keras.preprocessing.image import ImageDataGenerator\n",
    "from tensorflow.keras.models import Sequential\n",
    "from tensorflow.keras.layers import Conv2D, MaxPool2D, Flatten, Dense\n",
    "import os\n",
    "import warnings\n",
    "warnings.filterwarnings(\"ignore\")"
   ]
  },
  {
   "cell_type": "markdown",
   "id": "80b56e6a",
   "metadata": {},
   "source": [
    "*Here we import:\n",
    "\n",
    "1. Libraries such as `numpy`, `tensorflow`, and `ImageDataGenerator` from `tensorflow.keras.preprocessing.image` are imported.\n",
    "2. A sequential model is initialized using `Sequential()` from `tensorflow.keras.models`.\n",
    "3. Layers such as Convolutional (`Conv2D`), Max Pooling (`MaxPool2D`), Flatten (`Flatten`), and Fully Connected (`Dense`) are imported from `tensorflow.keras.layers`.\n",
    "4. `os` module is imported.\n",
    "5. Warnings are filtered to be ignored.\n",
    "6. This code appears to set up a convolutional neural network (CNN) for image classification using TensorFlow and Keras. It's likely intended to train a model on image data using data augmentation techniques provided by `ImageDataGenerator`.*"
   ]
  },
  {
   "cell_type": "code",
   "execution_count": 3,
   "id": "fbdecfb3",
   "metadata": {},
   "outputs": [],
   "source": [
    "train_dir = r\"C:\\Users\\Aditi\\Desktop\\Artificial Intelligence Class\\Cardiomegaly_Disease_Dataset1\\train\\train\"\n",
    "test_dir = r\"C:\\Users\\Aditi\\Desktop\\Artificial Intelligence Class\\Cardiomegaly_Disease_Dataset1\\test\\test\""
   ]
  },
  {
   "cell_type": "markdown",
   "id": "0728da67",
   "metadata": {},
   "source": [
    "*Here:\n",
    "\n",
    "1. `train_dir` is assigned the file path to the directory containing training images.\n",
    "2. `test_dir` is assigned the file path to the directory containing testing images.\n",
    "3. The `r` before the string denotes a raw string literal in Python, which is used to avoid interpreting backslashes as escape sequences, ensuring that the file path is interpreted as-is.*"
   ]
  },
  {
   "cell_type": "code",
   "execution_count": 4,
   "id": "d8e54c12",
   "metadata": {},
   "outputs": [],
   "source": [
    "img_width, img_height = 128, 128"
   ]
  },
  {
   "cell_type": "markdown",
   "id": "55f49e1a",
   "metadata": {},
   "source": [
    "*Here:\n",
    "\n",
    "1. `img_width` and `img_height` are assigned the values of 128 each.\n",
    "2. These variables likely represent the desired width and height for the images in the dataset, typically used for resizing images to a standard size before feeding them into the neural network model for processing.*"
   ]
  },
  {
   "cell_type": "code",
   "execution_count": 5,
   "id": "d9e53dba",
   "metadata": {},
   "outputs": [],
   "source": [
    "batch_size = 32"
   ]
  },
  {
   "cell_type": "markdown",
   "id": "41a98542",
   "metadata": {},
   "source": [
    "*Here:\n",
    "\n",
    "1. `batch_size` is assigned the value of 32.\n",
    "2. This variable represents the number of samples to be processed in each batch during training or inference. It is a hyperparameter that affects the efficiency of training and the memory consumption during processing.*"
   ]
  },
  {
   "cell_type": "code",
   "execution_count": 6,
   "id": "e0faae71",
   "metadata": {},
   "outputs": [],
   "source": [
    "train_dataset = ImageDataGenerator(\n",
    "    rescale = 1. / 255, \n",
    "    rotation_range = 20, \n",
    "    width_shift_range = 0.2, \n",
    "    height_shift_range = 0.2, \n",
    "    shear_range = 0.2, \n",
    "    zoom_range = 0.2,\n",
    "    horizontal_flip = True)"
   ]
  },
  {
   "cell_type": "markdown",
   "id": "dc7090fe",
   "metadata": {},
   "source": [
    "*Here we initializes an `ImageDataGenerator` object for generating batches of augmented training data:\n",
    "\n",
    "1. `rescale = 1. / 255`: Scales pixel values to the range [0, 1].\n",
    "2. `rotation_range = 20`: Randomly rotates the images up to 20 degrees.\n",
    "3. `width_shift_range = 0.2`: Randomly shifts the width of the images by up to 20% of the total width.\n",
    "4. `height_shift_range = 0.2`: Randomly shifts the height of the images by up to 20% of the total height.\n",
    "5. `shear_range = 0.2`: Applies shear transformations to the images by up to 20%.\n",
    "6. `zoom_range = 0.2`: Randomly zooms into the images by up to 20%.\n",
    "7. `horizontal_flip = True`: Randomly flips the images horizontally.*"
   ]
  },
  {
   "cell_type": "code",
   "execution_count": 7,
   "id": "89d9d80b",
   "metadata": {},
   "outputs": [],
   "source": [
    "test_dataset = ImageDataGenerator(rescale = 1./255)"
   ]
  },
  {
   "cell_type": "markdown",
   "id": "0a4de550",
   "metadata": {},
   "source": [
    "*Here we initializes an `ImageDataGenerator` object for generating batches of testing data:\n",
    "\n",
    "1. `rescale = 1./255`: Scales pixel values to the range [0, 1], similar to what was done for the training data. This normalization ensures consistency between the training and testing data, aiding model convergence and performance evaluation. However, unlike the training data generator, there are no additional data augmentation parameters specified, as testing data should remain unchanged for accurate evaluation of model performance.*"
   ]
  },
  {
   "cell_type": "code",
   "execution_count": 8,
   "id": "1a1bd284",
   "metadata": {},
   "outputs": [
    {
     "name": "stdout",
     "output_type": "stream",
     "text": [
      "Found 4438 images belonging to 2 classes.\n"
     ]
    }
   ],
   "source": [
    "x_train = train_dataset.flow_from_directory(\n",
    "train_dir,\n",
    "target_size = (img_width,img_height),\n",
    "batch_size = batch_size,\n",
    "class_mode = \"binary\")"
   ]
  },
  {
   "cell_type": "markdown",
   "id": "df23b5a3",
   "metadata": {},
   "source": [
    "*Here we generates batches of augmented training data from images stored in the directory specified by `train_dir`:\n",
    "\n",
    "1. `train_dataset.flow_from_directory`: This method creates a directory iterator for loading images from the specified directory and its subdirectories.\n",
    "2. `train_dir`: The directory containing the training images.\n",
    "3. `target_size = (img_width, img_height)`: Resizes the images to the specified dimensions `(img_width, img_height)`.\n",
    "4. `batch_size = batch_size`: Sets the batch size to `batch_size`, which was previously defined.\n",
    "5. `class_mode = \"binary\"`: Specifies the type of labels returned by the generator. In this case, it's set to `\"binary\"` indicating binary classification, meaning there are two classes (e.g., positive and negative) represented by the images.\n",
    "\n",
    "Here we Found 4438 images belonging to 2 classes.*"
   ]
  },
  {
   "cell_type": "code",
   "execution_count": 9,
   "id": "88830cb3",
   "metadata": {},
   "outputs": [
    {
     "name": "stdout",
     "output_type": "stream",
     "text": [
      "Found 1114 images belonging to 2 classes.\n"
     ]
    }
   ],
   "source": [
    "x_test = test_dataset.flow_from_directory(\n",
    "test_dir,\n",
    "target_size = (img_width,img_height),\n",
    "batch_size = batch_size,\n",
    "class_mode = \"binary\")"
   ]
  },
  {
   "cell_type": "markdown",
   "id": "1618b102",
   "metadata": {},
   "source": [
    "*Here we generates batches of testing data from images stored in the directory specified by `test_dir`:\n",
    "\n",
    "1. `test_dataset.flow_from_directory`: This method creates a directory iterator for loading images from the specified directory and its subdirectories.\n",
    "2. `test_dir`: The directory containing the testing images.\n",
    "3. `target_size = (img_width, img_height)`: Resizes the images to the specified dimensions `(img_width, img_height)`.\n",
    "4. `batch_size = batch_size`: Sets the batch size to `batch_size`, which was previously defined.\n",
    "5. `class_mode = \"binary\"`: Specifies the type of labels returned by the generator. In this case, it's set to `\"binary\"`, indicating binary classification, implying there are two classes represented by the images.\n",
    "Here we Found 1114 images belonging to 2 classes.*"
   ]
  },
  {
   "cell_type": "code",
   "execution_count": 10,
   "id": "250f3794",
   "metadata": {},
   "outputs": [
    {
     "name": "stdout",
     "output_type": "stream",
     "text": [
      "WARNING:tensorflow:From C:\\Users\\Aditi\\anaconda3\\lib\\site-packages\\keras\\src\\backend.py:873: The name tf.get_default_graph is deprecated. Please use tf.compat.v1.get_default_graph instead.\n",
      "\n",
      "WARNING:tensorflow:From C:\\Users\\Aditi\\anaconda3\\lib\\site-packages\\keras\\src\\layers\\pooling\\max_pooling2d.py:161: The name tf.nn.max_pool is deprecated. Please use tf.nn.max_pool2d instead.\n",
      "\n"
     ]
    }
   ],
   "source": [
    "model = Sequential([\n",
    "    Conv2D(32,(3,3), activation = \"relu\", input_shape = (img_width, img_height,3)),\n",
    "    MaxPool2D((2,2)),\n",
    "    Conv2D(64,(3,3),activation = \"relu\"),\n",
    "    MaxPool2D((2,2)),\n",
    "    Conv2D(128,(3,3),activation = \"relu\"),\n",
    "    MaxPool2D((2,2)),\n",
    "    Conv2D(256,(3,3),activation = \"relu\"),\n",
    "    MaxPool2D((2,2)),\n",
    "    Flatten(),\n",
    "    Dense(512,activation = \"relu\"),\n",
    "    Dense(256,activation = \"relu\"),\n",
    "    Dense(1,activation = \"sigmoid\")\n",
    "])"
   ]
  },
  {
   "cell_type": "markdown",
   "id": "8b6f2b55",
   "metadata": {},
   "source": [
    "*Here we defines a convolutional neural network (CNN) model using the Sequential API in Keras/TensorFlow:\n",
    "\n",
    "1. `Conv2D`: Defines a convolutional layer with 32 filters, each with a 3x3 kernel, using the ReLU activation function. The `input_shape` parameter specifies the shape of input images.\n",
    "2. `MaxPool2D`: Adds a max pooling layer with a 2x2 pool size.\n",
    "3. This sequence is repeated, gradually increasing the number of filters (64, 128, 256) and reducing the spatial dimensions through max pooling.\n",
    "4. `Flatten`: Flattens the output from the convolutional layers into a 1D array.\n",
    "5. `Dense`: Adds fully connected (dense) layers with 512, 256, and 1 neurons respectively, each using ReLU activation except for the last one, which uses the sigmoid activation function. The final layer has 1 neuron, suitable for binary classification tasks (e.g., classifying images into two categories).*"
   ]
  },
  {
   "cell_type": "code",
   "execution_count": 11,
   "id": "d8b582d2",
   "metadata": {},
   "outputs": [
    {
     "name": "stdout",
     "output_type": "stream",
     "text": [
      "WARNING:tensorflow:From C:\\Users\\Aditi\\anaconda3\\lib\\site-packages\\keras\\src\\optimizers\\__init__.py:309: The name tf.train.Optimizer is deprecated. Please use tf.compat.v1.train.Optimizer instead.\n",
      "\n"
     ]
    }
   ],
   "source": [
    "model.compile(optimizer= \"adam\",loss=\"binary_crossentropy\",metrics=[\"accuracy\"])"
   ]
  },
  {
   "cell_type": "markdown",
   "id": "93e11d5d",
   "metadata": {},
   "source": [
    "*Here compiles the neural network model:\n",
    "\n",
    "1. `optimizer=\"adam\"`: Specifies the optimization algorithm to be used during training. Here, Adam optimizer is chosen, which is an adaptive learning rate optimization algorithm known for its efficiency and effectiveness in training deep learning models.\n",
    "  \n",
    "2. `loss=\"binary_crossentropy\"`: Defines the loss function to be optimized during training. For binary classification tasks like this one, binary crossentropy is commonly used as it measures the difference between the true labels and the predicted probabilities.\n",
    "  \n",
    "3. `metrics=[\"accuracy\"]`: Specifies the evaluation metric(s) to be computed during training and testing. In this case, the model's accuracy (the proportion of correctly classified samples) will be monitored.*"
   ]
  },
  {
   "cell_type": "code",
   "execution_count": 12,
   "id": "9aeef2e8",
   "metadata": {
    "scrolled": false
   },
   "outputs": [
    {
     "name": "stdout",
     "output_type": "stream",
     "text": [
      "Epoch 1/30\n",
      "WARNING:tensorflow:From C:\\Users\\Aditi\\anaconda3\\lib\\site-packages\\keras\\src\\utils\\tf_utils.py:492: The name tf.ragged.RaggedTensorValue is deprecated. Please use tf.compat.v1.ragged.RaggedTensorValue instead.\n",
      "\n",
      "WARNING:tensorflow:From C:\\Users\\Aditi\\anaconda3\\lib\\site-packages\\keras\\src\\engine\\base_layer_utils.py:384: The name tf.executing_eagerly_outside_functions is deprecated. Please use tf.compat.v1.executing_eagerly_outside_functions instead.\n",
      "\n",
      "139/139 [==============================] - 201s 1s/step - loss: 0.6969 - accuracy: 0.4953 - val_loss: 0.6933 - val_accuracy: 0.5000\n",
      "Epoch 2/30\n",
      "139/139 [==============================] - 153s 1s/step - loss: 0.6938 - accuracy: 0.5131 - val_loss: 0.6934 - val_accuracy: 0.5000\n",
      "Epoch 3/30\n",
      "139/139 [==============================] - 153s 1s/step - loss: 0.6934 - accuracy: 0.5020 - val_loss: 0.6931 - val_accuracy: 0.5000\n",
      "Epoch 4/30\n",
      "139/139 [==============================] - 147s 1s/step - loss: 0.6960 - accuracy: 0.5045 - val_loss: 0.6931 - val_accuracy: 0.5027\n",
      "Epoch 5/30\n",
      "139/139 [==============================] - 147s 1s/step - loss: 0.6931 - accuracy: 0.5097 - val_loss: 0.6929 - val_accuracy: 0.5072\n",
      "Epoch 6/30\n",
      "139/139 [==============================] - 164s 1s/step - loss: 0.6928 - accuracy: 0.5146 - val_loss: 0.6918 - val_accuracy: 0.5144\n",
      "Epoch 7/30\n",
      "139/139 [==============================] - 154s 1s/step - loss: 0.6905 - accuracy: 0.5225 - val_loss: 0.6857 - val_accuracy: 0.5144\n",
      "Epoch 8/30\n",
      "139/139 [==============================] - 157s 1s/step - loss: 0.6843 - accuracy: 0.5606 - val_loss: 0.6615 - val_accuracy: 0.6149\n",
      "Epoch 9/30\n",
      "139/139 [==============================] - 157s 1s/step - loss: 0.6767 - accuracy: 0.5658 - val_loss: 0.6549 - val_accuracy: 0.6463\n",
      "Epoch 10/30\n",
      "139/139 [==============================] - 156s 1s/step - loss: 0.6711 - accuracy: 0.5804 - val_loss: 0.6360 - val_accuracy: 0.6409\n",
      "Epoch 11/30\n",
      "139/139 [==============================] - 155s 1s/step - loss: 0.6690 - accuracy: 0.5845 - val_loss: 0.6456 - val_accuracy: 0.6050\n",
      "Epoch 12/30\n",
      "139/139 [==============================] - 155s 1s/step - loss: 0.6586 - accuracy: 0.6149 - val_loss: 0.6190 - val_accuracy: 0.6490\n",
      "Epoch 13/30\n",
      "139/139 [==============================] - 154s 1s/step - loss: 0.6513 - accuracy: 0.6192 - val_loss: 0.6206 - val_accuracy: 0.6517\n",
      "Epoch 14/30\n",
      "139/139 [==============================] - 154s 1s/step - loss: 0.6562 - accuracy: 0.6061 - val_loss: 0.6117 - val_accuracy: 0.6732\n",
      "Epoch 15/30\n",
      "139/139 [==============================] - 148s 1s/step - loss: 0.6550 - accuracy: 0.6203 - val_loss: 0.6180 - val_accuracy: 0.6544\n",
      "Epoch 16/30\n",
      "139/139 [==============================] - 149s 1s/step - loss: 0.6446 - accuracy: 0.6269 - val_loss: 0.6134 - val_accuracy: 0.6616\n",
      "Epoch 17/30\n",
      "139/139 [==============================] - 154s 1s/step - loss: 0.6415 - accuracy: 0.6282 - val_loss: 0.6169 - val_accuracy: 0.6589\n",
      "Epoch 18/30\n",
      "139/139 [==============================] - 149s 1s/step - loss: 0.6383 - accuracy: 0.6368 - val_loss: 0.6077 - val_accuracy: 0.6679\n",
      "Epoch 19/30\n",
      "139/139 [==============================] - 149s 1s/step - loss: 0.6339 - accuracy: 0.6417 - val_loss: 0.6364 - val_accuracy: 0.6580\n",
      "Epoch 20/30\n",
      "139/139 [==============================] - 148s 1s/step - loss: 0.6351 - accuracy: 0.6399 - val_loss: 0.5896 - val_accuracy: 0.6885\n",
      "Epoch 21/30\n",
      "139/139 [==============================] - 150s 1s/step - loss: 0.6397 - accuracy: 0.6284 - val_loss: 0.6940 - val_accuracy: 0.5440\n",
      "Epoch 22/30\n",
      "139/139 [==============================] - 150s 1s/step - loss: 0.6455 - accuracy: 0.6275 - val_loss: 0.5952 - val_accuracy: 0.6903\n",
      "Epoch 23/30\n",
      "139/139 [==============================] - 155s 1s/step - loss: 0.6402 - accuracy: 0.6395 - val_loss: 0.6291 - val_accuracy: 0.6221\n",
      "Epoch 24/30\n",
      "139/139 [==============================] - 156s 1s/step - loss: 0.6263 - accuracy: 0.6487 - val_loss: 0.5958 - val_accuracy: 0.6813\n",
      "Epoch 25/30\n",
      "139/139 [==============================] - 154s 1s/step - loss: 0.6259 - accuracy: 0.6523 - val_loss: 0.5969 - val_accuracy: 0.6858\n",
      "Epoch 26/30\n",
      "139/139 [==============================] - 152s 1s/step - loss: 0.6234 - accuracy: 0.6528 - val_loss: 0.5924 - val_accuracy: 0.6777\n",
      "Epoch 27/30\n",
      "139/139 [==============================] - 152s 1s/step - loss: 0.6160 - accuracy: 0.6598 - val_loss: 0.5671 - val_accuracy: 0.7029\n",
      "Epoch 28/30\n",
      "139/139 [==============================] - 152s 1s/step - loss: 0.6205 - accuracy: 0.6582 - val_loss: 0.6090 - val_accuracy: 0.6625\n",
      "Epoch 29/30\n",
      "139/139 [==============================] - 150s 1s/step - loss: 0.6126 - accuracy: 0.6571 - val_loss: 0.5643 - val_accuracy: 0.7056\n",
      "Epoch 30/30\n",
      "139/139 [==============================] - 150s 1s/step - loss: 0.6149 - accuracy: 0.6575 - val_loss: 0.5932 - val_accuracy: 0.6885\n"
     ]
    }
   ],
   "source": [
    "history = model.fit(x_train,epochs=30,validation_data=x_test)"
   ]
  },
  {
   "cell_type": "markdown",
   "id": "88d9c0f4",
   "metadata": {},
   "source": [
    "*Here we trains the neural network model:\n",
    "\n",
    "1. `model.fit`: Trains the model using the training data (`x_train`) and corresponding labels.\n",
    "  \n",
    "2. `epochs=30`: Specifies the number of epochs, i.e., the number of times the entire training dataset is passed forward and backward through the neural network.\n",
    "  \n",
    "3. `validation_data=x_test`: Specifies the validation dataset to evaluate the model's performance after each epoch. In this case, the testing data (`x_test`) is used for validation.\n",
    "\n",
    "The training process updates the model's parameters (weights and biases) iteratively to minimize the defined loss function (binary crossentropy) using the specified optimizer (Adam). The training progress and performance metrics are stored in the `history` variable for later analysis and visualization.*"
   ]
  },
  {
   "cell_type": "code",
   "execution_count": 13,
   "id": "4dfb4f74",
   "metadata": {},
   "outputs": [],
   "source": [
    "import matplotlib.pyplot as plt"
   ]
  },
  {
   "cell_type": "markdown",
   "id": "3552f8d5",
   "metadata": {},
   "source": [
    "*Here we imports the `matplotlib.pyplot` module, which is a Python plotting library used for creating various types of visualizations such as line plots, histograms, scatter plots, etc.*"
   ]
  },
  {
   "cell_type": "code",
   "execution_count": 14,
   "id": "25760330",
   "metadata": {},
   "outputs": [
    {
     "data": {
      "image/png": "[encoded data removed]",
      "text/plain": [
       "<Figure size 640x480 with 1 Axes>"
      ]
     },
     "metadata": {},
     "output_type": "display_data"
    }
   ],
   "source": [
    "plt.plot(history.history[\"accuracy\"])\n",
    "plt.plot(history.history[\"val_accuracy\"])\n",
    "plt.title(\"Model Accuracy\")\n",
    "plt.xlabel(\"Epochs\")\n",
    "plt.ylabel(\"Acccuracy\")\n",
    "plt.legend([\"Train\",\"Validation\"])\n",
    "plt.show()"
   ]
  },
  {
   "cell_type": "markdown",
   "id": "cc3b2766",
   "metadata": {},
   "source": [
    "*Here our a plot showing the training and validation accuracy of a neural network model over epochs:\n",
    "\n",
    "1. `plt.plot(history.history[\"accuracy\"])`: Plots the training accuracy over epochs using data stored in `history.history[\"accuracy\"]`.\n",
    "  \n",
    "2. `plt.plot(history.history[\"val_accuracy\"])`: Plots the validation accuracy over epochs using data stored in `history.history[\"val_accuracy\"]`.\n",
    "  \n",
    "3. `plt.title(\"Model Accuracy\")`: Sets the title of the plot to \"Model Accuracy\".\n",
    "  \n",
    "4. `plt.xlabel(\"Epochs\")`: Sets the label for the x-axis to \"Epochs\".\n",
    "  \n",
    "5. `plt.ylabel(\"Accuracy\")`: Sets the label for the y-axis to \"Accuracy\".\n",
    "  \n",
    "6. `plt.legend([\"Train\", \"Validation\"])`: Adds a legend to the plot to differentiate between training and validation accuracy curves.\n",
    "  \n",
    "7. `plt.show()`: Displays the plot.*"
   ]
  },
  {
   "cell_type": "code",
   "execution_count": 15,
   "id": "b36ee17a",
   "metadata": {},
   "outputs": [
    {
     "data": {
      "image/png": "[encoded data removed]",
      "text/plain": [
       "<Figure size 640x480 with 1 Axes>"
      ]
     },
     "metadata": {},
     "output_type": "display_data"
    }
   ],
   "source": [
    "plt.plot(history.history[\"loss\"])\n",
    "plt.plot(history.history[\"val_loss\"])\n",
    "plt.title(\"Model Accuracy\")\n",
    "plt.xlabel(\"Epochs\")\n",
    "plt.ylabel(\"Acccuracy\")\n",
    "plt.legend([\"Train\",\"Validation\"])\n",
    "plt.show()"
   ]
  },
  {
   "cell_type": "markdown",
   "id": "ce1748ee",
   "metadata": {},
   "source": [
    "*Here our code generates a plot showing the training and validation loss of a neural network model over epochs:\n",
    "\n",
    "1. `plt.plot(history.history[\"loss\"])`: Plots the training loss over epochs using data stored in `history.history[\"loss\"]`.\n",
    "\n",
    "2. `plt.plot(history.history[\"val_loss\"])`: Plots the validation loss over epochs using data stored in `history.history[\"val_loss\"]`.\n",
    "\n",
    "3. `plt.title(\"Model Accuracy\")`: Sets the title of the plot to \"Model Accuracy\".\n",
    "\n",
    "4. `plt.xlabel(\"Epochs\")`: Sets the label for the x-axis to \"Epochs\".\n",
    "\n",
    "5. `plt.ylabel(\"Accuracy\")`: Sets the label for the y-axis to \"Accuracy\".\n",
    "\n",
    "6. `plt.legend([\"Train\", \"Validation\"])`: Adds a legend to the plot to differentiate between training and validation loss curves.\n",
    "\n",
    "7. `plt.show()`: Displays the plot.*"
   ]
  },
  {
   "cell_type": "code",
   "execution_count": 16,
   "id": "26329d92",
   "metadata": {},
   "outputs": [],
   "source": [
    "class_labels = x_train.class_indices"
   ]
  },
  {
   "cell_type": "markdown",
   "id": "2d0503b4",
   "metadata": {},
   "source": [
    "*Here we retrieves the class indices from the training data generator `x_train` and stores them in the `class_labels` variable. These class indices represent the mapping of class labels to numerical indices. For example, if your classes are \"cat\" and \"dog\", the class indices might be something like {'cat': 0, 'dog': 1}. This mapping can be useful for tasks such as interpreting model predictions or generating classification reports.*"
   ]
  },
  {
   "cell_type": "code",
   "execution_count": 17,
   "id": "88ac7e2f",
   "metadata": {},
   "outputs": [
    {
     "name": "stdout",
     "output_type": "stream",
     "text": [
      "Class Names :  {0: 'false', 1: 'true'}\n"
     ]
    }
   ],
   "source": [
    "class_names = {value: key for key, value in class_labels.items()}\n",
    "print(\"Class Names : \",class_names)"
   ]
  },
  {
   "cell_type": "markdown",
   "id": "471fba2a",
   "metadata": {},
   "source": [
    "*Here we creates a dictionary called `class_names` where the keys are numerical class indices and the values are the corresponding class labels. It achieves this by iterating over the items of the `class_labels` dictionary and swapping the keys and values. \n",
    "The `print()` statement then displays the `class_names` dictionary, showing the numerical indices mapped to their respective class labels.*"
   ]
  },
  {
   "cell_type": "code",
   "execution_count": 18,
   "id": "cbb3b986",
   "metadata": {},
   "outputs": [],
   "source": [
    "from tensorflow.keras.preprocessing import image"
   ]
  },
  {
   "cell_type": "markdown",
   "id": "272328e4",
   "metadata": {},
   "source": [
    "*Here we imports the `image` module from `tensorflow.keras.preprocessing`, which provides functions for loading and preprocessing images. With this module, you can perform various image-related tasks such as loading images from file paths, resizing images, and applying transformations to images before feeding them into a neural network for prediction or training.*"
   ]
  },
  {
   "cell_type": "code",
   "execution_count": 19,
   "id": "ba275358",
   "metadata": {},
   "outputs": [],
   "source": [
    "img_path = r\"C:\\Users\\Aditi\\Desktop\\img\\test1_img.png\""
   ]
  },
  {
   "cell_type": "markdown",
   "id": "a1c6ec77",
   "metadata": {},
   "source": [
    "*Here we sets the variable `img_path` to a file path string pointing to an image file named \"test1_img.png\" located in the specified directory.*"
   ]
  },
  {
   "cell_type": "code",
   "execution_count": 20,
   "id": "3f80ba13",
   "metadata": {},
   "outputs": [],
   "source": [
    "img = image.load_img(img_path, target_size=(img_width,img_height))"
   ]
  },
  {
   "cell_type": "markdown",
   "id": "38f0570b",
   "metadata": {},
   "source": [
    "*Here we loads the image file specified by the `img_path` variable and resizes it to the dimensions specified by `(img_width, img_height)`. The resulting image is stored in the variable `img`.*"
   ]
  },
  {
   "cell_type": "code",
   "execution_count": 21,
   "id": "2893defc",
   "metadata": {},
   "outputs": [],
   "source": [
    "img_arr = image.img_to_array(img)"
   ]
  },
  {
   "cell_type": "markdown",
   "id": "b89a7f86",
   "metadata": {},
   "source": [
    "*Here we converts the image `img` into a NumPy array representation. The resulting array, `img_arr`, will contain the pixel values of the image, allowing it to be processed or fed into a machine learning model for tasks such as classification or object detection.*"
   ]
  },
  {
   "cell_type": "code",
   "execution_count": 22,
   "id": "2c69d397",
   "metadata": {},
   "outputs": [],
   "source": [
    "img_arr = np.expand_dims(img_arr,axis=0)"
   ]
  },
  {
   "cell_type": "markdown",
   "id": "61a08ec7",
   "metadata": {},
   "source": [
    "*Here we expands the dimensions of the NumPy array `img_arr` along the specified axis (axis=0). By doing so, it creates a new axis at the beginning of the array, effectively converting the array into a batch of one image. This is typically done to match the input shape expected by models, where the first dimension represents the batch size.*"
   ]
  },
  {
   "cell_type": "code",
   "execution_count": 23,
   "id": "448fbb81",
   "metadata": {},
   "outputs": [],
   "source": [
    "img_arr = img_arr / 255.0"
   ]
  },
  {
   "cell_type": "markdown",
   "id": "810d654b",
   "metadata": {},
   "source": [
    "*Here we normalizes the pixel values of the image array `img_arr`. It divides all pixel values by 255.0, which scales them down to the range [0, 1]. Normalization like this is commonly performed to ensure that all features (in this case, pixel values) are on a similar scale, which can aid in the training process and improve convergence of machine learning models.*"
   ]
  },
  {
   "cell_type": "code",
   "execution_count": 24,
   "id": "a234fea2",
   "metadata": {},
   "outputs": [
    {
     "name": "stdout",
     "output_type": "stream",
     "text": [
      "1/1 [==============================] - 0s 422ms/step\n"
     ]
    }
   ],
   "source": [
    "pred = model.predict(img_arr)"
   ]
  },
  {
   "cell_type": "markdown",
   "id": "6054d3a7",
   "metadata": {},
   "source": [
    "*Here we uses the trained neural network model (`model`) to make predictions on the input image array (`img_arr`). The `predict` method computes the output predictions of the model based on the input data. In this case, `pred` will contain the predicted probabilities for each class, which can be interpreted as the model's confidence in each class.*"
   ]
  },
  {
   "cell_type": "code",
   "execution_count": 25,
   "id": "826d7573",
   "metadata": {},
   "outputs": [],
   "source": [
    "pred_class = np.argmax(pred)"
   ]
  },
  {
   "cell_type": "markdown",
   "id": "64f805e0",
   "metadata": {},
   "source": [
    "*Here we determines the predicted class label from the prediction probabilities (`pred`). It finds the index of the highest probability in the array `pred` using `np.argmax()`, which corresponds to the predicted class. This index represents the class label predicted by the model for the input image.*"
   ]
  },
  {
   "cell_type": "code",
   "execution_count": 26,
   "id": "c6e0ae5b",
   "metadata": {},
   "outputs": [
    {
     "data": {
      "text/plain": [
       "'false'"
      ]
     },
     "execution_count": 26,
     "metadata": {},
     "output_type": "execute_result"
    }
   ],
   "source": [
    "class_names[pred_class]"
   ]
  },
  {
   "cell_type": "markdown",
   "id": "816e1c33",
   "metadata": {},
   "source": [
    "*Here retrieves the class label associated with the predicted class index (`pred_class`) from the `class_names` dictionary. It maps the numerical index of the predicted class to its corresponding class label, providing the human-readable interpretation of the model's prediction for the input image.\n",
    "Here we got the correct result.*"
   ]
  },
  {
   "cell_type": "code",
   "execution_count": null,
   "id": "fb4f55dc",
   "metadata": {},
   "outputs": [],
   "source": []
  }
 ],
 "metadata": {
  "kernelspec": {
   "display_name": "Python 3 (ipykernel)",
   "language": "python",
   "name": "python3"
  },
  "language_info": {
   "codemirror_mode": {
    "name": "ipython",
    "version": 3
   },
   "file_extension": ".py",
   "mimetype": "text/x-python",
   "name": "python",
   "nbconvert_exporter": "python",
   "pygments_lexer": "ipython3",
   "version": "3.10.9"
  }
 },
 "nbformat": 4,
 "nbformat_minor": 5
}
